{
 "cells": [
  {
   "cell_type": "code",
   "execution_count": 1,
   "id": "10f7a381-0eb1-480d-8e2d-2943d9398d2c",
   "metadata": {},
   "outputs": [
    {
     "name": "stdout",
     "output_type": "stream",
     "text": [
      "hello world\n"
     ]
    }
   ],
   "source": [
    "print(\"hello world\")"
   ]
  },
  {
   "cell_type": "code",
   "execution_count": 2,
   "id": "c509a3d4-c6ff-419f-b509-51f3eb539548",
   "metadata": {},
   "outputs": [
    {
     "data": {
      "text/plain": [
       "15"
      ]
     },
     "execution_count": 2,
     "metadata": {},
     "output_type": "execute_result"
    }
   ],
   "source": [
    "5*3"
   ]
  },
  {
   "cell_type": "code",
   "execution_count": 3,
   "id": "9f539537-0c59-4b01-952d-40e177bc8480",
   "metadata": {},
   "outputs": [
    {
     "data": {
      "text/plain": [
       "1.6666666666666667"
      ]
     },
     "execution_count": 3,
     "metadata": {},
     "output_type": "execute_result"
    }
   ],
   "source": [
    "5/3"
   ]
  },
  {
   "cell_type": "code",
   "execution_count": 5,
   "id": "ac3c9778-345b-4452-9b17-f2d1a6ab9f2c",
   "metadata": {
    "tags": []
   },
   "outputs": [
    {
     "data": {
      "text/plain": [
       "2"
      ]
     },
     "execution_count": 5,
     "metadata": {},
     "output_type": "execute_result"
    }
   ],
   "source": [
    "5-3"
   ]
  },
  {
   "cell_type": "code",
   "execution_count": 8,
   "id": "2090c24c-ee3d-44c5-8dd7-9598d7fff05f",
   "metadata": {},
   "outputs": [
    {
     "data": {
      "text/plain": [
       "8"
      ]
     },
     "execution_count": 8,
     "metadata": {},
     "output_type": "execute_result"
    }
   ],
   "source": [
    "5+3"
   ]
  },
  {
   "cell_type": "markdown",
   "id": "73ffa5ba-3d77-4a06-923d-ee75f6e50e9d",
   "metadata": {},
   "source": [
    "안녕하세요.ㅁㄴㅇㄹㅁㄴㅇㅁㄴㅇㅁㄴㅇ"
   ]
  },
  {
   "cell_type": "markdown",
   "id": "e67ebd51-0005-4446-b18c-77875df2cb93",
   "metadata": {},
   "source": [
    "# 파이썬 수업\n",
    "\n",
    "## 시작"
   ]
  },
  {
   "cell_type": "code",
   "execution_count": 16,
   "id": "126f03c8-267f-4871-82b7-33db6262f33b",
   "metadata": {},
   "outputs": [
    {
     "name": "stdout",
     "output_type": "stream",
     "text": [
      "hello world\n"
     ]
    }
   ],
   "source": [
    "# dfdfd\n",
    "# 여러번 쓸 수 있다.\n",
    "print('hello world')"
   ]
  },
  {
   "cell_type": "code",
   "execution_count": 18,
   "id": "0b48581f-3ef9-4a42-bc6f-f2ae5110cd78",
   "metadata": {},
   "outputs": [
    {
     "name": "stdout",
     "output_type": "stream",
     "text": [
      "Untitled.ipynb  app.py\n"
     ]
    }
   ],
   "source": [
    "ls"
   ]
  },
  {
   "cell_type": "code",
   "execution_count": 21,
   "id": "1920666c-25d4-457d-bb90-669e1ab71aec",
   "metadata": {},
   "outputs": [
    {
     "data": {
      "text/plain": [
       "'/Users/uneedcomms/study/TIL/Python/playground'"
      ]
     },
     "execution_count": 21,
     "metadata": {},
     "output_type": "execute_result"
    }
   ],
   "source": [
    "pwd"
   ]
  },
  {
   "cell_type": "markdown",
   "id": "ce5d0a34-0e90-4f09-901f-ad8a0859bcdf",
   "metadata": {},
   "source": [
    "## 문법"
   ]
  },
  {
   "cell_type": "markdown",
   "id": "00f160a0-4d62-4754-a709-55dbf14c0160",
   "metadata": {},
   "source": [
    "## 그다음"
   ]
  },
  {
   "cell_type": "code",
   "execution_count": null,
   "id": "a037f10f-7da5-490d-b952-c1e2f1c07dfc",
   "metadata": {},
   "outputs": [],
   "source": []
  }
 ],
 "metadata": {
  "kernelspec": {
   "display_name": "Python 3 (ipykernel)",
   "language": "python",
   "name": "python3"
  },
  "language_info": {
   "codemirror_mode": {
    "name": "ipython",
    "version": 3
   },
   "file_extension": ".py",
   "mimetype": "text/x-python",
   "name": "python",
   "nbconvert_exporter": "python",
   "pygments_lexer": "ipython3",
   "version": "3.9.13"
  },
  "toc-autonumbering": true
 },
 "nbformat": 4,
 "nbformat_minor": 5
}
